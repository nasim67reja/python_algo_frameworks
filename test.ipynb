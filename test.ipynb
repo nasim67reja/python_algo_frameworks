{
 "cells": [
  {
   "cell_type": "code",
   "execution_count": 2,
   "id": "5503ae12",
   "metadata": {},
   "outputs": [
    {
     "data": {
      "text/plain": [
       "Date\n",
       "2020-04-10 00:00:00+00:00      0.951054\n",
       "2020-04-11 00:00:00+00:00      0.776819\n",
       "2020-04-12 00:00:00+00:00      0.882507\n",
       "2020-04-13 00:00:00+00:00      0.777832\n",
       "2020-04-14 00:00:00+00:00      0.661925\n",
       "                                ...    \n",
       "2025-05-20 00:00:00+00:00    168.483688\n",
       "2025-05-21 00:00:00+00:00    173.681732\n",
       "2025-05-22 00:00:00+00:00    179.690948\n",
       "2025-05-23 00:00:00+00:00    173.825424\n",
       "2025-05-24 00:00:00+00:00    175.244125\n",
       "Freq: D, Name: Close, Length: 1871, dtype: float64"
      ]
     },
     "execution_count": 2,
     "metadata": {},
     "output_type": "execute_result"
    }
   ],
   "source": [
    "import vectorbt as vbt\n",
    "\n",
    "price = vbt.YFData.download('SOL-USD').get('Close')\n",
    "price"
   ]
  },
  {
   "cell_type": "markdown",
   "id": "8bd80c59",
   "metadata": {},
   "source": [
    "# Fetch Today's BTC-USD 00:00 UTC Hourly Candle\n",
    "This cell fetches the opening (00:00 UTC) hourly candle for BTC-USD for today using vectorbt and displays its OHLC values."
   ]
  },
  {
   "cell_type": "code",
   "execution_count": 8,
   "id": "ebc863d2",
   "metadata": {},
   "outputs": [
    {
     "name": "stdout",
     "output_type": "stream",
     "text": [
      "BTC-USD 00:00 UTC Candle for Today:\n"
     ]
    },
    {
     "data": {
      "text/html": [
       "<div>\n",
       "<style scoped>\n",
       "    .dataframe tbody tr th:only-of-type {\n",
       "        vertical-align: middle;\n",
       "    }\n",
       "\n",
       "    .dataframe tbody tr th {\n",
       "        vertical-align: top;\n",
       "    }\n",
       "\n",
       "    .dataframe thead th {\n",
       "        text-align: right;\n",
       "    }\n",
       "</style>\n",
       "<table border=\"1\" class=\"dataframe\">\n",
       "  <thead>\n",
       "    <tr style=\"text-align: right;\">\n",
       "      <th></th>\n",
       "      <th>Open</th>\n",
       "      <th>High</th>\n",
       "      <th>Low</th>\n",
       "      <th>Close</th>\n",
       "    </tr>\n",
       "    <tr>\n",
       "      <th>Datetime</th>\n",
       "      <th></th>\n",
       "      <th></th>\n",
       "      <th></th>\n",
       "      <th></th>\n",
       "    </tr>\n",
       "  </thead>\n",
       "  <tbody>\n",
       "    <tr>\n",
       "      <th>2025-05-25 00:00:00+00:00</th>\n",
       "      <td>107789.9375</td>\n",
       "      <td>108105.921875</td>\n",
       "      <td>107357.328125</td>\n",
       "      <td>107457.78125</td>\n",
       "    </tr>\n",
       "  </tbody>\n",
       "</table>\n",
       "</div>"
      ],
      "text/plain": [
       "                                  Open           High            Low  \\\n",
       "Datetime                                                               \n",
       "2025-05-25 00:00:00+00:00  107789.9375  108105.921875  107357.328125   \n",
       "\n",
       "                                  Close  \n",
       "Datetime                                 \n",
       "2025-05-25 00:00:00+00:00  107457.78125  "
      ]
     },
     "execution_count": 8,
     "metadata": {},
     "output_type": "execute_result"
    }
   ],
   "source": [
    "import vectorbt as vbt\n",
    "import pandas as pd\n",
    "from datetime import datetime, timedelta\n",
    "\n",
    "# Get today's date in UTC as string\n",
    "utc_today = datetime.utcnow().date()\n",
    "start_str = str(utc_today)\n",
    "end_str = str(utc_today + timedelta(days=1))\n",
    "\n",
    "# Download 1-hour BTC-USD data for today\n",
    "btc_1h = vbt.YFData.download(\n",
    "    'BTC-USD',\n",
    "    start=start_str,\n",
    "    end=end_str,\n",
    "    interval='1h'\n",
    ")\n",
    "\n",
    "# Extract OHLC data\n",
    "open_ = btc_1h.get('Open')\n",
    "high_ = btc_1h.get('High')\n",
    "low_ = btc_1h.get('Low')\n",
    "close_ = btc_1h.get('Close')\n",
    "\n",
    "# Filter for 00:00 UTC candle\n",
    "mask = (open_.index.hour == 0)\n",
    "df=0\n",
    "if mask.any():\n",
    "    df = pd.DataFrame({\n",
    "        'Open': open_[mask],\n",
    "        'High': high_[mask],\n",
    "        'Low': low_[mask],\n",
    "        'Close': close_[mask],\n",
    "    })\n",
    "    print(\"BTC-USD 00:00 UTC Candle for Today:\")\n",
    "    # print(df)\n",
    "else:\n",
    "    print(\"No 00:00 UTC candle found for today.\")\n",
    "\n",
    "df"
   ]
  },
  {
   "cell_type": "markdown",
   "id": "d4744148",
   "metadata": {},
   "source": [
    "# Simulate Trade Based on 00:00 UTC Candle and 5-Minute Candles\n",
    "This cell determines trade direction (long/short) from the 00:00 UTC candle, sets SL/TP, and simulates trade outcome by scanning 5-minute candles until SL or TP is hit."
   ]
  },
  {
   "cell_type": "code",
   "execution_count": 12,
   "id": "2df5f8e3",
   "metadata": {},
   "outputs": [
    {
     "name": "stdout",
     "output_type": "stream",
     "text": [
      "Direction: Short\n",
      "Entry Price: 107457.78\n",
      "SL: 107995.07, TP: 106383.20\n",
      "Exit Time: 2025-05-25 00:10:00+00:00\n",
      "Exit Price: 107995.07\n",
      "Result: Loss\n",
      "PnL: -5.00 USDT (Return: -0.50%)\n",
      "\n",
      "OHLC of the 5m candle where SL/TP was hit:\n",
      "            Open           High            Low          Close  \\\n",
      "0  108005.085938  108035.320312  107989.203125  107989.203125   \n",
      "\n",
      "                       Time  \n",
      "0 2025-05-25 00:10:00+00:00  \n"
     ]
    }
   ],
   "source": [
    "# Determine trade direction\n",
    "if df is not None and not isinstance(df, int) and not df.empty:\n",
    "    entry_row = df.iloc[0]\n",
    "    entry_time = df.index[0]\n",
    "    entry_price = entry_row['Close']\n",
    "    direction = 'Long' if entry_row['Close'] > entry_row['Open'] else 'Short'\n",
    "    sl = entry_price * (1 - 0.005) if direction == 'Long' else entry_price * (1 + 0.005)\n",
    "    tp = entry_price * (1 + 0.01) if direction == 'Long' else entry_price * (1 - 0.01)\n",
    "    \n",
    "    # Download 5-minute BTC-USD data for today\n",
    "    btc_5m = vbt.YFData.download(\n",
    "        'BTC-USD',\n",
    "        start=start_str,\n",
    "        end=end_str,\n",
    "        interval='5m'\n",
    "    )\n",
    "    high_5m = btc_5m.get('High')\n",
    "    low_5m = btc_5m.get('Low')\n",
    "    # Only consider candles after entry_time\n",
    "    mask_5m = high_5m.index > entry_time\n",
    "    high_5m = high_5m[mask_5m]\n",
    "    low_5m = low_5m[mask_5m]\n",
    "    exit_price = None\n",
    "    exit_time = None\n",
    "    result = None\n",
    "    ohlc_hit = None  # Store the OHLC of the candle where SL/TP is hit\n",
    "    for idx in high_5m.index:\n",
    "        high = high_5m.loc[idx]\n",
    "        low = low_5m.loc[idx]\n",
    "        open5 = btc_5m.get('Open').loc[idx]\n",
    "        close5 = btc_5m.get('Close').loc[idx]\n",
    "        if direction == 'Long':\n",
    "            if low <= sl:\n",
    "                exit_price = sl\n",
    "                exit_time = idx\n",
    "                result = 'Loss'\n",
    "                ohlc_hit = {'Open': open5, 'High': high, 'Low': low, 'Close': close5, 'Time': idx}\n",
    "                break\n",
    "            if high >= tp:\n",
    "                exit_price = tp\n",
    "                exit_time = idx\n",
    "                result = 'Profit'\n",
    "                ohlc_hit = {'Open': open5, 'High': high, 'Low': low, 'Close': close5, 'Time': idx}\n",
    "                break\n",
    "        else:\n",
    "            if high >= sl:\n",
    "                exit_price = sl\n",
    "                exit_time = idx\n",
    "                result = 'Loss'\n",
    "                ohlc_hit = {'Open': open5, 'High': high, 'Low': low, 'Close': close5, 'Time': idx}\n",
    "                break\n",
    "            if low <= tp:\n",
    "                exit_price = tp\n",
    "                exit_time = idx\n",
    "                result = 'Profit'\n",
    "                ohlc_hit = {'Open': open5, 'High': high, 'Low': low, 'Close': close5, 'Time': idx}\n",
    "                break\n",
    "    if exit_price is not None:\n",
    "        # Calculate PnL in USD based on $1000 position size, 1x leverage\n",
    "        position_size = 1000  # USDT\n",
    "        if direction == 'Long':\n",
    "            pnl_pct = (exit_price - entry_price) / entry_price\n",
    "        else:\n",
    "            pnl_pct = (entry_price - exit_price) / entry_price\n",
    "        pnl_usd = pnl_pct * position_size\n",
    "        print(f\"Direction: {direction}\")\n",
    "        print(f\"Entry Price: {entry_price:.2f}\")\n",
    "        print(f\"SL: {sl:.2f}, TP: {tp:.2f}\")\n",
    "        print(f\"Exit Time: {exit_time}\")\n",
    "        print(f\"Exit Price: {exit_price:.2f}\")\n",
    "        print(f\"Result: {result}\")\n",
    "        print(f\"PnL: {pnl_usd:.2f} USDT (Return: {pnl_pct*100:.2f}%)\")\n",
    "        if ohlc_hit is not None:\n",
    "            ohlc_df = pd.DataFrame([ohlc_hit])\n",
    "            print(\"\\nOHLC of the 5m candle where SL/TP was hit:\")\n",
    "            print(ohlc_df)\n",
    "    else:\n",
    "        print(\"Neither SL nor TP was hit in today's 5-minute candles after entry.\")\n",
    "else:\n",
    "    print(\"No valid 00:00 UTC candle to base the trade on.\")"
   ]
  }
 ],
 "metadata": {
  "kernelspec": {
   "display_name": ".venv",
   "language": "python",
   "name": "python3"
  },
  "language_info": {
   "codemirror_mode": {
    "name": "ipython",
    "version": 3
   },
   "file_extension": ".py",
   "mimetype": "text/x-python",
   "name": "python",
   "nbconvert_exporter": "python",
   "pygments_lexer": "ipython3",
   "version": "3.11.9"
  }
 },
 "nbformat": 4,
 "nbformat_minor": 5
}
