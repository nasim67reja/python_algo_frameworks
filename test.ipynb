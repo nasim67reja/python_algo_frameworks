{
 "cells": [
  {
   "cell_type": "code",
   "execution_count": 5,
   "id": "5503ae12",
   "metadata": {},
   "outputs": [
    {
     "data": {
      "text/plain": [
       "Date\n",
       "2020-04-10 00:00:00+00:00      0.951054\n",
       "2020-04-11 00:00:00+00:00      0.776819\n",
       "2020-04-12 00:00:00+00:00      0.882507\n",
       "2020-04-13 00:00:00+00:00      0.777832\n",
       "2020-04-14 00:00:00+00:00      0.661925\n",
       "                                ...    \n",
       "2025-05-12 00:00:00+00:00    174.247894\n",
       "2025-05-13 00:00:00+00:00    184.006256\n",
       "2025-05-14 00:00:00+00:00    176.709229\n",
       "2025-05-15 00:00:00+00:00    169.009995\n",
       "2025-05-16 00:00:00+00:00    171.420853\n",
       "Freq: D, Name: Close, Length: 1863, dtype: float64"
      ]
     },
     "execution_count": 5,
     "metadata": {},
     "output_type": "execute_result"
    }
   ],
   "source": [
    "import vectorbt as vbt\n",
    "\n",
    "price = vbt.YFData.download('SOL-USD').get('Close')\n",
    "price"
   ]
  },
  {
   "cell_type": "code",
   "execution_count": null,
   "id": "f3dadb62",
   "metadata": {},
   "outputs": [],
   "source": [
    "import vectorbt as vbt\n",
    "import pandas as pd\n",
    "from datetime import datetime, timedelta\n",
    "import pytz\n",
    "\n",
    "# Set timezone for Bangladesh\n",
    "bd_tz = pytz.timezone('Asia/Dhaka')\n",
    "\n",
    "# Define time window (8-10 PM Bangladesh time)\n",
    "start_hour = 20\n",
    "end_hour = 22\n",
    "\n",
    "# Get date range for last 1 month\n",
    "end_date = datetime.now(bd_tz)\n",
    "start_date = end_date - timedelta(days=30)\n",
    "\n",
    "# Download 5-min BTC-USD data for the last month\n",
    "price = vbt.YFData.download(\n",
    "    'BTC-USD',\n",
    "    interval='5m',\n",
    "    start=start_date.strftime('%Y-%m-%d'),\n",
    "    end=end_date.strftime('%Y-%m-%d')\n",
    ").get('Close')\n",
    "\n",
    "# Convert index to Bangladesh time\n",
    "price.index = price.index.tz_convert('Asia/Dhaka')\n",
    "\n",
    "# Filter for 8-10 PM each day\n",
    "price = price[(price.index.hour >= start_hour) & (price.index.hour < end_hour)]\n",
    "\n",
    "# Calculate EMAs\n",
    "ema_fast = vbt.MA.run(price, window=5, short_name='EMA5', ewm=True).ma\n",
    "ema_slow = vbt.MA.run(price, window=20, short_name='EMA20', ewm=True).ma\n",
    "\n",
    "# Generate signals\n",
    "entries = (ema_fast > ema_slow) & (ema_fast.shift(1) <= ema_slow.shift(1))\n",
    "exits = (ema_fast < ema_slow) & (ema_fast.shift(1) >= ema_slow.shift(1))\n",
    "\n",
    "# Simulate trades with 1% risk-to-reward ratio\n",
    "# For simplicity, assume fixed position size and no compounding\n",
    "risk_pct = 0.01\n",
    "reward_pct = 0.01\n",
    "\n",
    "# Calculate stop loss and take profit levels\n",
    "stop_loss = price * (1 - risk_pct)\n",
    "take_profit = price * (1 + reward_pct)\n",
    "\n",
    "# Run backtest\n",
    "pf = vbt.Portfolio.from_signals(\n",
    "    price,\n",
    "    entries,\n",
    "    exits,\n",
    "    sl_stop=stop_loss,\n",
    "    tp_stop=take_profit,\n",
    "    freq='5T'\n",
    ")\n",
    "\n",
    "# Output total profit and loss\n",
    "print('Total Profit and Loss for 1 Month:')\n",
    "print(pf.total_profit)\n",
    "print('Total Return (%):')\n",
    "print(pf.total_return * 100)"
   ]
  }
 ],
 "metadata": {
  "kernelspec": {
   "display_name": ".venv",
   "language": "python",
   "name": "python3"
  },
  "language_info": {
   "codemirror_mode": {
    "name": "ipython",
    "version": 3
   },
   "file_extension": ".py",
   "mimetype": "text/x-python",
   "name": "python",
   "nbconvert_exporter": "python",
   "pygments_lexer": "ipython3",
   "version": "3.11.9"
  }
 },
 "nbformat": 4,
 "nbformat_minor": 5
}
