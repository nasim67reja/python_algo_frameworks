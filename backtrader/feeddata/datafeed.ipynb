{
 "cells": [
  {
   "cell_type": "markdown",
   "id": "59a74a72",
   "metadata": {},
   "source": [
    "# Datafeed"
   ]
  },
  {
   "cell_type": "markdown",
   "id": "d4116838",
   "metadata": {},
   "source": [
    "## Datafeed from pandas data"
   ]
  },
  {
   "cell_type": "code",
   "execution_count": null,
   "id": "eb081939",
   "metadata": {},
   "outputs": [],
   "source": [
    "from binance.um_futures import UMFutures\n",
    "\n",
    "um_futures_client = UMFutures()\n",
    "data = um_futures_client.klines(\"BTCUSDT\", \"1d\",limit=30)\n",
    "\n",
    "## create a DataFrame from the data\n",
    "import pandas as pd\n",
    "df = pd.DataFrame(data, columns=[\n",
    "    \"datetime\", \"open\", \"high\", \"low\", \"close\", \"volume\",\n",
    "    \"close_time\", \"quote_asset_volume\", \"number_of_trades\",\n",
    "    \"taker_buy_base_asset_volume\", \"taker_buy_quote_asset_volume\",\n",
    "    \"ignore\"\n",
    "])\n",
    "\n",
    "## Convert the 'datetime' column to a datetime object\n",
    "df[\"datetime\"] = pd.to_datetime(df[\"datetime\"], unit=\"ms\")\n",
    "\n",
    "## Keep only the relevant columns\n",
    "df=df[[\"datetime\", \"open\", \"high\", \"low\", \"close\", \"volume\"]]\n",
    "df= df.set_index(\"datetime\")\n",
    "df.tail()\n",
    "    "
   ]
  },
  {
   "cell_type": "markdown",
   "id": "ef325c2a",
   "metadata": {},
   "source": [
    "### feed the data into backtrader"
   ]
  },
  {
   "cell_type": "code",
   "execution_count": 1,
   "id": "8141665a",
   "metadata": {},
   "outputs": [],
   "source": [
    "import backtrader as bt\n",
    "import pandas as pd"
   ]
  },
  {
   "cell_type": "markdown",
   "id": "1016f5b4",
   "metadata": {},
   "source": [
    "### From Pandas Data"
   ]
  },
  {
   "cell_type": "code",
   "execution_count": null,
   "id": "1efc6c1a",
   "metadata": {},
   "outputs": [],
   "source": [
    "# Create a Backtrader data feed from the DataFrame\n",
    "parsed_data= bt.feeds.PandasData(dataname=df,datetime=None,open=0,high=1,low=2,close=3,volume=4,openinterest=-1)"
   ]
  },
  {
   "cell_type": "markdown",
   "id": "96618888",
   "metadata": {},
   "source": [
    "### From Csv"
   ]
  },
  {
   "cell_type": "code",
   "execution_count": null,
   "id": "19cc13f4",
   "metadata": {},
   "outputs": [],
   "source": [
    "# save the DataFrame to a CSV file\n",
    "# df.to_csv(\"BTCUSDT_1d.csv\")\n",
    "\n",
    "# df_from_csv = pd.read_csv(\"BTCUSDT_1d.csv\", parse_dates=True)\n",
    "# df_from_csv"
   ]
  },
  {
   "cell_type": "code",
   "execution_count": null,
   "id": "7841b977",
   "metadata": {},
   "outputs": [],
   "source": [
    "btc_csv_parsed=bt.feeds.GenericCSVData(\n",
    "    dataname=\"BTCUSDT_1d.csv\",\n",
    "    dtformat=('%Y-%m-%d'),\n",
    "    datetime=0,\n",
    "    open=1,\n",
    "    high=2,\n",
    "    low=3,\n",
    "    close=4,\n",
    "    volume=5,\n",
    "    openinterest=-1\n",
    ")"
   ]
  },
  {
   "cell_type": "code",
   "execution_count": null,
   "id": "f0c129a9",
   "metadata": {},
   "outputs": [
    {
     "data": {
      "text/plain": [
       "<backtrader.feeds.pandafeed.PandasData at 0x1a6ee8486a0>"
      ]
     },
     "execution_count": 5,
     "metadata": {},
     "output_type": "execute_result"
    }
   ],
   "source": [
    "cerebro = bt.Cerebro()\n",
    "cerebro.adddata(btc_csv_parsed)"
   ]
  },
  {
   "cell_type": "code",
   "execution_count": null,
   "id": "de42b4b8",
   "metadata": {},
   "outputs": [],
   "source": [
    "cerebro.run()\n",
    "\n",
    "%matplotlib widget\n",
    "\n",
    "cerebro.plot(iplot=False)"
   ]
  },
  {
   "cell_type": "markdown",
   "id": "4bd3bcc7",
   "metadata": {},
   "source": [
    "### Run From Csv\n",
    "- won't working in notebook but working in .py file"
   ]
  },
  {
   "cell_type": "code",
   "execution_count": null,
   "id": "4862300b",
   "metadata": {},
   "outputs": [],
   "source": [
    "import backtrader as bt\n",
    "# import pandas as pd\n",
    "\n",
    "btc_csv_parsed=bt.feeds.GenericCSVData(\n",
    "    dataname=\"BTCUSDT_1d.csv\",\n",
    "    dtformat=('%Y-%m-%d'),\n",
    "    datetime=0,\n",
    "    open=1,\n",
    "    high=2,\n",
    "    low=3,\n",
    "    close=4,\n",
    "    volume=5,\n",
    "    openinterest=-1\n",
    ")\n",
    "\n",
    "\n",
    "cerebro = bt.Cerebro()\n",
    "cerebro.adddata(btc_csv_parsed)\n",
    "\n",
    "cerebro.run()\n",
    "\n",
    "# %matplotlib widget\n",
    "\n",
    "cerebro.plot()\n",
    "\n"
   ]
  },
  {
   "cell_type": "code",
   "execution_count": null,
   "id": "b42c9242",
   "metadata": {},
   "outputs": [],
   "source": [
    "import matplotlib.pyplot as plt\n",
    "\n",
    "\n",
    "# Sample data\n",
    "x = [1, 2, 3, 4, 5]\n",
    "y = [10, 20, 25, 30, 40]\n",
    "\n",
    "# Create a plot\n",
    "plt.plot(x, y)\n",
    "\n",
    "# Add title and labels\n",
    "plt.title(\"Simple Line Chart\")\n",
    "plt.xlabel(\"X Axis\")\n",
    "plt.ylabel(\"Y Axis\")\n",
    "\n",
    "# Show the plot\n",
    "plt.show()\n"
   ]
  }
 ],
 "metadata": {
  "kernelspec": {
   "display_name": ".venv",
   "language": "python",
   "name": "python3"
  },
  "language_info": {
   "codemirror_mode": {
    "name": "ipython",
    "version": 3
   },
   "file_extension": ".py",
   "mimetype": "text/x-python",
   "name": "python",
   "nbconvert_exporter": "python",
   "pygments_lexer": "ipython3",
   "version": "3.11.9"
  }
 },
 "nbformat": 4,
 "nbformat_minor": 5
}
