{
 "cells": [
  {
   "cell_type": "markdown",
   "id": "468fa962",
   "metadata": {},
   "source": [
    "# Strategy Introduction"
   ]
  },
  {
   "cell_type": "markdown",
   "id": "3855f217",
   "metadata": {},
   "source": [
    "### First read/add the data"
   ]
  },
  {
   "cell_type": "code",
   "execution_count": 5,
   "id": "563eaa1b",
   "metadata": {},
   "outputs": [],
   "source": [
    "import backtrader as bt\n",
    "import pandas as pd\n",
    "\n",
    "# parsed_csv=bt.feeds.GenericCSVData(\n",
    "#     dataname='data/eurusd-1h.csv',\n",
    "#     dtformat=('%Y-%m-%d'),\n",
    "#     datetime=0,\n",
    "\n",
    "btc_csv_parsed=bt.feeds.GenericCSVData(\n",
    "    dataname=\"../feeddata/BTCUSDT_1d.csv\",\n",
    "    dtformat=('%Y-%m-%d'),\n",
    "    datetime=0,\n",
    "    open=1,\n",
    "    high=2,\n",
    "    low=3,\n",
    "    close=4,\n",
    "    volume=5,\n",
    "    openinterest=-1\n",
    ")"
   ]
  },
  {
   "cell_type": "markdown",
   "id": "f2e8b61e",
   "metadata": {},
   "source": [
    "### Define Strategies"
   ]
  },
  {
   "cell_type": "code",
   "execution_count": 3,
   "id": "d686a51d",
   "metadata": {},
   "outputs": [],
   "source": [
    "class TestStrategy(bt.Strategy):\n",
    "    def __init__(self):\n",
    "        pass\n",
    "    def next(self):\n",
    "        pass"
   ]
  },
  {
   "cell_type": "markdown",
   "id": "cf4a1fc5",
   "metadata": {},
   "source": [
    "### Create Cerebro Engine"
   ]
  },
  {
   "cell_type": "code",
   "execution_count": 7,
   "id": "86aa0319",
   "metadata": {},
   "outputs": [
    {
     "data": {
      "text/plain": [
       "[<__main__.TestStrategy at 0x19e3fdb95d0>]"
      ]
     },
     "execution_count": 7,
     "metadata": {},
     "output_type": "execute_result"
    }
   ],
   "source": [
    "cerebro= bt.Cerebro()\n",
    "cerebro.adddata(btc_csv_parsed)\n",
    "\n",
    "cerebro.addstrategy(TestStrategy)\n",
    "\n",
    "cerebro.run()\n",
    "\n",
    "# cerebro.plot()"
   ]
  }
 ],
 "metadata": {
  "kernelspec": {
   "display_name": ".venv",
   "language": "python",
   "name": "python3"
  },
  "language_info": {
   "codemirror_mode": {
    "name": "ipython",
    "version": 3
   },
   "file_extension": ".py",
   "mimetype": "text/x-python",
   "name": "python",
   "nbconvert_exporter": "python",
   "pygments_lexer": "ipython3",
   "version": "3.11.9"
  }
 },
 "nbformat": 4,
 "nbformat_minor": 5
}
