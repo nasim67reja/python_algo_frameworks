{
 "cells": [
  {
   "cell_type": "markdown",
   "id": "468fa962",
   "metadata": {},
   "source": [
    "# Strategy Introduction"
   ]
  },
  {
   "cell_type": "markdown",
   "id": "3855f217",
   "metadata": {},
   "source": [
    "### First read/add the data"
   ]
  },
  {
   "cell_type": "code",
   "execution_count": null,
   "id": "563eaa1b",
   "metadata": {},
   "outputs": [],
   "source": [
    "import backtrader as bt\n",
    "import pandas as pd\n",
    "\n",
    "btc_csv_parsed=bt.feeds.GenericCSVData(\n",
    "    dataname=\"../feeddata/BTCUSDT_1d.csv\",\n",
    "    dtformat=('%Y-%m-%d'),\n",
    "    datetime=0,\n",
    "    open=1,\n",
    "    high=2,\n",
    "    low=3,\n",
    "    close=4,\n",
    "    volume=5,\n",
    "    openinterest=-1\n",
    ")"
   ]
  },
  {
   "cell_type": "markdown",
   "id": "f2e8b61e",
   "metadata": {},
   "source": [
    "### Define Strategies"
   ]
  },
  {
   "cell_type": "code",
   "execution_count": 2,
   "id": "d686a51d",
   "metadata": {},
   "outputs": [],
   "source": [
    "class TestStrategy(bt.Strategy):\n",
    "    def __init__(self):\n",
    "        pass\n",
    "    def next(self):\n",
    "        pass"
   ]
  },
  {
   "cell_type": "code",
   "execution_count": null,
   "id": "c831abb4",
   "metadata": {},
   "outputs": [],
   "source": [
    "class CloseStrategy(bt.Strategy):\n",
    "    def __init__(self):\n",
    "        pass\n",
    "    def next(self):\n",
    "        dataClose = self.datas[0].close[0]\n",
    "        print(f\"Close: {dataClose}\")"
   ]
  },
  {
   "cell_type": "code",
   "execution_count": 6,
   "id": "077043c8",
   "metadata": {},
   "outputs": [],
   "source": [
    "class ClosePrice(bt.Strategy):\n",
    "    def __init__(self):\n",
    "        self.closePrice = self.datas[0].close\n",
    "\n",
    "    def log(self, txt, dt=None):\n",
    "        dt = dt or self.datas[0].datetime.date(0)\n",
    "        print(f\"{dt.isoformat()} {txt}\")\n",
    "\n",
    "    def next(self):\n",
    "        x = self.closePrice[0]\n",
    "        self.log(f\"Close Price: {x}\")"
   ]
  },
  {
   "cell_type": "markdown",
   "id": "cf4a1fc5",
   "metadata": {},
   "source": [
    "### Create Cerebro Engine"
   ]
  },
  {
   "cell_type": "code",
   "execution_count": null,
   "id": "86aa0319",
   "metadata": {},
   "outputs": [],
   "source": [
    "cerebro= bt.Cerebro()\n",
    "cerebro.adddata(btc_csv_parsed)\n",
    "\n",
    "cerebro.addstrategy(ClosePrice)\n",
    "\n",
    "cerebro.run()\n",
    "\n",
    "# cerebro.plot()"
   ]
  }
 ],
 "metadata": {
  "kernelspec": {
   "display_name": ".venv",
   "language": "python",
   "name": "python3"
  },
  "language_info": {
   "codemirror_mode": {
    "name": "ipython",
    "version": 3
   },
   "file_extension": ".py",
   "mimetype": "text/x-python",
   "name": "python",
   "nbconvert_exporter": "python",
   "pygments_lexer": "ipython3",
   "version": "3.11.9"
  }
 },
 "nbformat": 4,
 "nbformat_minor": 5
}
